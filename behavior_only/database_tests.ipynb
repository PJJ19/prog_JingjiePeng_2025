{
 "cells": [
  {
   "cell_type": "markdown",
   "metadata": {},
   "source": [
    "# autopi_mec database tests\n",
    "\n",
    "We want to make sure we have all the needed files before proceeding with the analysis."
   ]
  },
  {
   "cell_type": "markdown",
   "metadata": {},
   "source": [
    "## autopipy files"
   ]
  },
  {
   "cell_type": "code",
   "execution_count": 20,
   "metadata": {},
   "outputs": [
    {
     "name": "stdout",
     "output_type": "stream",
     "text": [
      "The autoreload extension is already loaded. To reload it, use:\n",
      "  %reload_ext autoreload\n",
      "creating myProject, an autopipy.project object\n",
      "Project name: autopi_mec\n",
      "dataPath: /adata/projects/autopi_mec\n",
      "dlcModelPath: /adata/models\n",
      "Reading /adata/projects/autopi_mec/sessionList\n",
      "We have 180 testing sessions in the list\n",
      "spikeA.Kilosort_session objects are in sSessions\n"
     ]
    }
   ],
   "source": [
    "%load_ext autoreload\n",
    "%autoreload 2\n",
    "\n",
    "%run setup_project.py\n",
    "import os.path\n",
    "import shutil\n",
    "import warnings\n",
    "\n",
    "warnings.simplefilter('ignore')\n",
    "\n",
    "projectName, dataPath, dlcModelPath, myProject, sSessions = setup_project_session_lists(sessionFileName=\"sessionList\")"
   ]
  },
  {
   "cell_type": "markdown",
   "metadata": {},
   "source": [
    "During recordings, we have a video from the tracking system (positrack or positrack2). We also have a video from the autopi hardware. We will use the tracking system for the animal location and the autopi video for the lever, bridge, and arena position. This means that the frame rate of the autopi video is not too critical."
   ]
  },
  {
   "cell_type": "markdown",
   "metadata": {},
   "source": [
    "Here we check that we have the files to analyze the behavior. We also check that the video and video log created by the autopi task hardware have the same length and right sampling rate."
   ]
  },
  {
   "cell_type": "code",
   "execution_count": null,
   "metadata": {},
   "outputs": [],
   "source": [
    "for ses in myProject.sessionList:\n",
    "    ses.checkSessionDirectory()\n",
    "    ses.testVideoLogSynchronization(verbose=False)"
   ]
  },
  {
   "cell_type": "markdown",
   "metadata": {},
   "source": [
    "## spikeA files\n",
    "\n",
    "We will new create a list of spikeA.session objects. We will test whether we have all the needed files.\n"
   ]
  },
  {
   "cell_type": "markdown",
   "metadata": {},
   "source": [
    "Check if the AnimalPose.pose matrix was generated from the .positrack and .dat files."
   ]
  },
  {
   "cell_type": "code",
   "execution_count": 22,
   "metadata": {},
   "outputs": [
    {
     "name": "stderr",
     "output_type": "stream",
     "text": [
      "100%|██████████| 180/180 [00:07<00:00, 25.36it/s]"
     ]
    },
    {
     "name": "stdout",
     "output_type": "stream",
     "text": [
      "Number of sessions without a ap.pose.npy file: 0\n"
     ]
    },
    {
     "name": "stderr",
     "output_type": "stream",
     "text": [
      "\n"
     ]
    }
   ],
   "source": [
    "from spikeA.Animal_pose import Animal_pose\n",
    "notYet=[]\n",
    "for ses in tqdm(sSessions) :\n",
    "    ap = Animal_pose(ses)\n",
    "    try: \n",
    "        ap.load_pose_from_file()\n",
    "    except IOError:\n",
    "        print(\"no {}.pose.npy\".format(ses.name))\n",
    "        notYet.append(ses.name)\n",
    "print(\"Number of sessions without a ap.pose.npy file: {}\".format(len(notYet)))"
   ]
  }
 ],
 "metadata": {
  "kernelspec": {
   "display_name": "spikeA",
   "language": "python",
   "name": "python3"
  },
  "language_info": {
   "codemirror_mode": {
    "name": "ipython",
    "version": 3
   },
   "file_extension": ".py",
   "mimetype": "text/x-python",
   "name": "python",
   "nbconvert_exporter": "python",
   "pygments_lexer": "ipython3",
   "version": "3.11.5"
  }
 },
 "nbformat": 4,
 "nbformat_minor": 4
}
