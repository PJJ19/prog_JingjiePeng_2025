{
 "cells": [
  {
   "cell_type": "markdown",
   "id": "ef8ce071-69fd-4c5e-a75c-f8d94b19ad1b",
   "metadata": {},
   "source": [
    "# Video selection to train DLC networks\n",
    "\n",
    "We want to track LEDs and the center of the head in the 2 videos we recorded.\n",
    "\n",
    "* `arena_top`\n",
    "* `positrack2`\n"
   ]
  },
  {
   "cell_type": "code",
   "execution_count": 1,
   "id": "e70e9602-cc94-43cb-8573-8887aad22b67",
   "metadata": {},
   "outputs": [
    {
     "name": "stderr",
     "output_type": "stream",
     "text": [
      "/home/kilo/repo/analysis_jingjie/jingjie/autopi_mec_jingjie/autopi_mec/mouse_and_objects_position_tracking/setup_project.py:769: NumbaDeprecationWarning: The 'nopython' keyword argument was not supplied to the 'numba.jit' decorator. The implicit default value for this argument is currently False, but it will be changed to True in Numba 0.59.0. See https://numba.readthedocs.io/en/stable/reference/deprecation.html#deprecation-of-object-mode-fall-back-behaviour-when-using-jit for details.\n",
      "  @jit()\n",
      "/home/kilo/repo/analysis_jingjie/jingjie/autopi_mec_jingjie/autopi_mec/mouse_and_objects_position_tracking/setup_project.py:797: NumbaDeprecationWarning: The 'nopython' keyword argument was not supplied to the 'numba.jit' decorator. The implicit default value for this argument is currently False, but it will be changed to True in Numba 0.59.0. See https://numba.readthedocs.io/en/stable/reference/deprecation.html#deprecation-of-object-mode-fall-back-behaviour-when-using-jit for details.\n",
      "  @jit()\n",
      "/home/kilo/repo/analysis_jingjie/jingjie/autopi_mec_jingjie/autopi_mec/mouse_and_objects_position_tracking/setup_project.py:821: NumbaDeprecationWarning: The 'nopython' keyword argument was not supplied to the 'numba.jit' decorator. The implicit default value for this argument is currently False, but it will be changed to True in Numba 0.59.0. See https://numba.readthedocs.io/en/stable/reference/deprecation.html#deprecation-of-object-mode-fall-back-behaviour-when-using-jit for details.\n",
      "  @jit()\n"
     ]
    }
   ],
   "source": [
    "%load_ext autoreload\n",
    "%autoreload 2\n",
    "%run setup_project.py"
   ]
  },
  {
   "cell_type": "code",
   "execution_count": 3,
   "id": "a173200a",
   "metadata": {},
   "outputs": [
    {
     "name": "stdout",
     "output_type": "stream",
     "text": [
      "creating myProject, an autopipy.project object\n",
      "Project name: autopi_mec\n",
      "dataPath: /adata/projects/autopi_mec\n",
      "dlcModelPath: /adata/models\n",
      "Reading /adata/projects/autopi_mec/sessionList_invalid\n",
      "We have 1 testing sessions in the list\n",
      "spikeA.Kilosort_session objects are in sSessions\n"
     ]
    }
   ],
   "source": [
    "projectName, dataPath, dlcModelPath, myProject, sSessions= setup_project_session_lists()"
   ]
  },
  {
   "cell_type": "markdown",
   "id": "16b9d814-dbe7-4162-916e-95a69176b437",
   "metadata": {},
   "source": [
    "## AutoPI arena_top videos\n",
    "\n",
    "We just want a subset of recording sessions to use as training material.\n",
    "\n",
    "We will use 8 videos, which should give us enough variability. "
   ]
  },
  {
   "cell_type": "code",
   "execution_count": 5,
   "id": "3a68b4b6-3965-4d9a-bffe-fdbb26030f7c",
   "metadata": {},
   "outputs": [
    {
     "name": "stdout",
     "output_type": "stream",
     "text": [
      "/adata/projects/autopi_mec/mn8578/mn8578-30112021-0107/mn8578-30112021-0107.arena_top.cropped.avi\n"
     ]
    }
   ],
   "source": [
    "sessionIndices = [0]\n",
    "for i in sessionIndices:\n",
    "    ses = myProject.sessionList[i]\n",
    "    print(ses.fileNames[\"arena_top.cropped.avi\"])"
   ]
  },
  {
   "cell_type": "markdown",
   "id": "3f7874a4-c82d-4afe-8536-5807e1517a3f",
   "metadata": {},
   "source": [
    "## Create shorter videos\n",
    "\n",
    "It is easier to work with shorter videos, as I will be training off-site."
   ]
  },
  {
   "cell_type": "code",
   "execution_count": 6,
   "id": "2403c62a-d7d0-41da-8bfe-b94368d8c0d9",
   "metadata": {},
   "outputs": [
    {
     "name": "stdout",
     "output_type": "stream",
     "text": [
      "ffmpeg -i /adata/projects/autopi_mec/mn8578/mn8578-30112021-0107/mn8578-30112021-0107.arena_top.cropped.avi -vb 10M -ss 00:10:00 -t 00:20:00 /adata/projects/autopi_mec/mn8578/mn8578-30112021-0107/mn8578-30112021-0107.arena_top.cropped_short.avi\n"
     ]
    },
    {
     "name": "stderr",
     "output_type": "stream",
     "text": [
      "ffmpeg version 4.2.7-0ubuntu0.1 Copyright (c) 2000-2022 the FFmpeg developers\n",
      "  built with gcc 9 (Ubuntu 9.4.0-1ubuntu1~20.04.1)\n",
      "  configuration: --prefix=/usr --extra-version=0ubuntu0.1 --toolchain=hardened --libdir=/usr/lib/x86_64-linux-gnu --incdir=/usr/include/x86_64-linux-gnu --arch=amd64 --enable-gpl --disable-stripping --enable-avresample --disable-filter=resample --enable-avisynth --enable-gnutls --enable-ladspa --enable-libaom --enable-libass --enable-libbluray --enable-libbs2b --enable-libcaca --enable-libcdio --enable-libcodec2 --enable-libflite --enable-libfontconfig --enable-libfreetype --enable-libfribidi --enable-libgme --enable-libgsm --enable-libjack --enable-libmp3lame --enable-libmysofa --enable-libopenjpeg --enable-libopenmpt --enable-libopus --enable-libpulse --enable-librsvg --enable-librubberband --enable-libshine --enable-libsnappy --enable-libsoxr --enable-libspeex --enable-libssh --enable-libtheora --enable-libtwolame --enable-libvidstab --enable-libvorbis --enable-libvpx --enable-libwavpack --enable-libwebp --enable-libx265 --enable-libxml2 --enable-libxvid --enable-libzmq --enable-libzvbi --enable-lv2 --enable-omx --enable-openal --enable-opencl --enable-opengl --enable-sdl2 --enable-libdc1394 --enable-libdrm --enable-libiec61883 --enable-nvenc --enable-chromaprint --enable-frei0r --enable-libx264 --enable-shared\n",
      "  WARNING: library configuration mismatch\n",
      "  avcodec     configuration: --prefix=/usr --extra-version=0ubuntu0.1 --toolchain=hardened --libdir=/usr/lib/x86_64-linux-gnu --incdir=/usr/include/x86_64-linux-gnu --arch=amd64 --enable-gpl --disable-stripping --enable-avresample --disable-filter=resample --enable-avisynth --enable-gnutls --enable-ladspa --enable-libaom --enable-libass --enable-libbluray --enable-libbs2b --enable-libcaca --enable-libcdio --enable-libcodec2 --enable-libflite --enable-libfontconfig --enable-libfreetype --enable-libfribidi --enable-libgme --enable-libgsm --enable-libjack --enable-libmp3lame --enable-libmysofa --enable-libopenjpeg --enable-libopenmpt --enable-libopus --enable-libpulse --enable-librsvg --enable-librubberband --enable-libshine --enable-libsnappy --enable-libsoxr --enable-libspeex --enable-libssh --enable-libtheora --enable-libtwolame --enable-libvidstab --enable-libvorbis --enable-libvpx --enable-libwavpack --enable-libwebp --enable-libx265 --enable-libxml2 --enable-libxvid --enable-libzmq --enable-libzvbi --enable-lv2 --enable-omx --enable-openal --enable-opencl --enable-opengl --enable-sdl2 --enable-libdc1394 --enable-libdrm --enable-libiec61883 --enable-nvenc --enable-chromaprint --enable-frei0r --enable-libx264 --enable-shared --enable-version3 --disable-doc --disable-programs --enable-libaribb24 --enable-liblensfun --enable-libopencore_amrnb --enable-libopencore_amrwb --enable-libtesseract --enable-libvo_amrwbenc\n",
      "  libavutil      56. 31.100 / 56. 31.100\n",
      "  libavcodec     58. 54.100 / 58. 54.100\n",
      "  libavformat    58. 29.100 / 58. 29.100\n",
      "  libavdevice    58.  8.100 / 58.  8.100\n",
      "  libavfilter     7. 57.100 /  7. 57.100\n",
      "  libavresample   4.  0.  0 /  4.  0.  0\n",
      "  libswscale      5.  5.100 /  5.  5.100\n",
      "  libswresample   3.  5.100 /  3.  5.100\n",
      "  libpostproc    55.  5.100 / 55.  5.100\n",
      "Input #0, avi, from '/adata/projects/autopi_mec/mn8578/mn8578-30112021-0107/mn8578-30112021-0107.arena_top.cropped.avi':\n",
      "  Metadata:\n",
      "    encoder         : Lavf58.61.100\n",
      "  Duration: 01:33:57.80, start: 0.000000, bitrate: 5372 kb/s\n",
      "    Stream #0:0: Video: mjpeg (Baseline) (MJPG / 0x47504A4D), yuvj420p(pc, bt470bg/unknown/unknown), 480x480, 5367 kb/s, 30 fps, 30 tbr, 30 tbn, 30 tbc\n",
      "File '/adata/projects/autopi_mec/mn8578/mn8578-30112021-0107/mn8578-30112021-0107.arena_top.cropped_short.avi' already exists. Overwrite ? [y/N] "
     ]
    }
   ],
   "source": [
    "for i in sessionIndices:\n",
    "    ses = myProject.sessionList[i]\n",
    "    inputFile = ses.fileNames[\"arena_top.cropped.avi\"]\n",
    "    outputFile = \"{}/{}{}\".format(ses.path,ses.name,\".arena_top.cropped_short.avi\")\n",
    "    myCMD = \"ffmpeg -i {} -vb 10M -ss 00:10:00 -t 00:20:00 {}\".format(inputFile,outputFile)\n",
    "    print(myCMD)\n",
    "    os.system(myCMD)"
   ]
  },
  {
   "cell_type": "markdown",
   "id": "0f376593-eefa-4b13-a797-e133ff9d816f",
   "metadata": {},
   "source": [
    "We can copy these shorter files into a single directory to make the copying across computer easier. "
   ]
  },
  {
   "cell_type": "code",
   "execution_count": 13,
   "id": "3b0de67a-1732-4bb0-911b-acd2102c9d4a",
   "metadata": {},
   "outputs": [
    {
     "name": "stdout",
     "output_type": "stream",
     "text": [
      "cp /adata/projects/autopi_mec/mn8578/mn8578-30112021-0107/mn8578-30112021-0107.arena_top.cropped_short.avi /adata/projects/autopi_mec/results/training_videos_arena_top/\n",
      "cp /adata/projects/autopi_mec/mn8578/mn8578-25122021-0107/mn8578-25122021-0107.arena_top.cropped_short.avi /adata/projects/autopi_mec/results/training_videos_arena_top/\n",
      "cp /adata/projects/autopi_mec/mn8599/mn8599-01022022-0108/mn8599-01022022-0108.arena_top.cropped_short.avi /adata/projects/autopi_mec/results/training_videos_arena_top/\n",
      "cp /adata/projects/autopi_mec/jp1084/jp1084-14042022-0108/jp1084-14042022-0108.arena_top.cropped_short.avi /adata/projects/autopi_mec/results/training_videos_arena_top/\n",
      "cp /adata/projects/autopi_mec/jp1685/jp1685-24042022-0108/jp1685-24042022-0108.arena_top.cropped_short.avi /adata/projects/autopi_mec/results/training_videos_arena_top/\n",
      "cp /adata/projects/autopi_mec/jp1686/jp1686-29042022-0109/jp1686-29042022-0109.arena_top.cropped_short.avi /adata/projects/autopi_mec/results/training_videos_arena_top/\n",
      "cp /adata/projects/autopi_mec/jp3129/jp3129-03062022-0108/jp3129-03062022-0108.arena_top.cropped_short.avi /adata/projects/autopi_mec/results/training_videos_arena_top/\n",
      "cp /adata/projects/autopi_mec/jp3129/jp3129-10062022-0107/jp3129-10062022-0107.arena_top.cropped_short.avi /adata/projects/autopi_mec/results/training_videos_arena_top/\n"
     ]
    }
   ],
   "source": [
    "for i in sessionIndices:\n",
    "    ses = myProject.sessionList[i]\n",
    "    originFile = \"{}/{}{}\".format(ses.path,ses.name,\".arena_top.cropped_short.avi\")\n",
    "    destinationFolder = \"/adata/projects/autopi_mec/results/training_videos_arena_top/\"\n",
    "    \n",
    "    myCMD = \"cp {} {}\".format(originFile,destinationFolder)\n",
    "    print(myCMD)\n",
    "    os.system(myCMD)"
   ]
  },
  {
   "cell_type": "markdown",
   "id": "cb7a7bb6-14b7-4322-b306-b5d6d10498d8",
   "metadata": {},
   "source": [
    "This can be copied offsite with `scp -r a230-pc59:/adata/projects/autopi_mec/results/training_videos_arena_top .`"
   ]
  },
  {
   "cell_type": "markdown",
   "id": "c283bffe-68b3-426b-beb2-beec2d86658d",
   "metadata": {},
   "source": [
    "I will use `review_labeled_video_and_extract` to extract frames with and without the mouse and difficult frames.\n",
    "\n",
    "I have created a model called `arenaTopMouseLEDs_480_480-Allen-2022-09-29` and the instructions to train it will be stored in the model directory: `/adata/models/arenaTopMouseLEDs_480_480-Allen-2022-09-29`."
   ]
  },
  {
   "cell_type": "markdown",
   "id": "47c16944-f985-49f6-8e92-951f95f1a66a",
   "metadata": {},
   "source": [
    "## Positrack2 \n",
    "\n",
    "The online positrack tracking is very conservative and we often loose the mouse. \n",
    "\n",
    "I have trained a new model to track the mouse LEDs and the mouse head using the video saved by positrack2. \n",
    "\n",
    "We will use some video saved by positrack2. We get videos of open-field exploration, from the rest box and from the AutoPI task."
   ]
  },
  {
   "cell_type": "code",
   "execution_count": null,
   "id": "5e1a9b4f-6d8a-4682-9a7b-7b77728c577f",
   "metadata": {},
   "outputs": [
    {
     "name": "stderr",
     "output_type": "stream",
     "text": [
      "100%|███████████████████████████████████████████| 92/92 [00:02<00:00, 32.26it/s]\n"
     ]
    }
   ],
   "source": [
    "load_parameters_from_files_project(sSessions)"
   ]
  },
  {
   "cell_type": "code",
   "execution_count": 16,
   "id": "f435f7d5-1b2e-4085-82de-da5e77e299a7",
   "metadata": {},
   "outputs": [
    {
     "name": "stdout",
     "output_type": "stream",
     "text": [
      "/adata/projects/autopi_mec/mn8578/mn8578-05122021-0108/mn8578-05122021_01.mp4\n",
      "/adata/projects/autopi_mec/mn8578/mn8578-05122021-0108/mn8578-05122021_02.mp4\n",
      "/adata/projects/autopi_mec/mn8578/mn8578-05122021-0108/mn8578-05122021_05.mp4\n",
      "/adata/projects/autopi_mec/mn8578/mn8578-28122021-0107/mn8578-28122021_01.mp4\n",
      "/adata/projects/autopi_mec/mn8578/mn8578-28122021-0107/mn8578-28122021_02.mp4\n",
      "/adata/projects/autopi_mec/mn8578/mn8578-28122021-0107/mn8578-28122021_05.mp4\n",
      "/adata/projects/autopi_mec/mn8599/mn8599-02022022-0107/mn8599-02022022_01.mp4\n",
      "/adata/projects/autopi_mec/mn8599/mn8599-02022022-0107/mn8599-02022022_02.mp4\n",
      "/adata/projects/autopi_mec/mn8599/mn8599-02022022-0107/mn8599-02022022_05.mp4\n",
      "/adata/projects/autopi_mec/jp1084/jp1084-13042022-0108/jp1084-13042022_01.mp4\n",
      "/adata/projects/autopi_mec/jp1084/jp1084-13042022-0108/jp1084-13042022_02.mp4\n",
      "/adata/projects/autopi_mec/jp1084/jp1084-13042022-0108/jp1084-13042022_05.mp4\n",
      "/adata/projects/autopi_mec/jp1685/jp1685-28042022-0108/jp1685-28042022_01.mp4\n",
      "/adata/projects/autopi_mec/jp1685/jp1685-28042022-0108/jp1685-28042022_02.mp4\n",
      "/adata/projects/autopi_mec/jp1685/jp1685-28042022-0108/jp1685-28042022_05.mp4\n",
      "/adata/projects/autopi_mec/jp3120/jp3120-15052022-0107/jp3120-15052022_01.mp4\n",
      "/adata/projects/autopi_mec/jp3120/jp3120-15052022-0107/jp3120-15052022_02.mp4\n",
      "/adata/projects/autopi_mec/jp3120/jp3120-15052022-0107/jp3120-15052022_05.mp4\n",
      "/adata/projects/autopi_mec/jp3129/jp3129-04062022-0108/jp3129-04062022_01.mp4\n",
      "/adata/projects/autopi_mec/jp3129/jp3129-04062022-0108/jp3129-04062022_02.mp4\n",
      "/adata/projects/autopi_mec/jp3129/jp3129-04062022-0108/jp3129-04062022_05.mp4\n",
      "/adata/projects/autopi_mec/jp3129/jp3129-09062022-0108/jp3129-09062022_01.mp4\n",
      "/adata/projects/autopi_mec/jp3129/jp3129-09062022-0108/jp3129-09062022_02.mp4\n",
      "/adata/projects/autopi_mec/jp3129/jp3129-09062022-0108/jp3129-09062022_05.mp4\n"
     ]
    }
   ],
   "source": [
    "sessionIndices = [1,13,25,37,49,73,85,90]\n",
    "trialIndices = [0,1,4]\n",
    "\n",
    "for i in sessionIndices:\n",
    "    sSes = sSessions[i]\n",
    "    for t in trialIndices:\n",
    "        fn = \"{}/{}{}\".format(sSes.path,sSes.trial_names[t],\".mp4\")\n",
    "        print(fn)"
   ]
  },
  {
   "cell_type": "markdown",
   "id": "5643cd5e-c3b4-4693-b4f4-b5f79b475de9",
   "metadata": {},
   "source": [
    "Copy these videos in a single directory for ease of copying across computers."
   ]
  },
  {
   "cell_type": "code",
   "execution_count": 17,
   "id": "65109c6d-5f25-4313-8cef-ca793c50f087",
   "metadata": {},
   "outputs": [
    {
     "name": "stdout",
     "output_type": "stream",
     "text": [
      "cp /adata/projects/autopi_mec/mn8578/mn8578-05122021-0108/mn8578-05122021_01.mp4 /adata/projects/autopi_mec/results/training_videos_positrack2/\n",
      "cp /adata/projects/autopi_mec/mn8578/mn8578-05122021-0108/mn8578-05122021_02.mp4 /adata/projects/autopi_mec/results/training_videos_positrack2/\n",
      "cp /adata/projects/autopi_mec/mn8578/mn8578-05122021-0108/mn8578-05122021_05.mp4 /adata/projects/autopi_mec/results/training_videos_positrack2/\n",
      "cp /adata/projects/autopi_mec/mn8578/mn8578-28122021-0107/mn8578-28122021_01.mp4 /adata/projects/autopi_mec/results/training_videos_positrack2/\n",
      "cp /adata/projects/autopi_mec/mn8578/mn8578-28122021-0107/mn8578-28122021_02.mp4 /adata/projects/autopi_mec/results/training_videos_positrack2/\n",
      "cp /adata/projects/autopi_mec/mn8578/mn8578-28122021-0107/mn8578-28122021_05.mp4 /adata/projects/autopi_mec/results/training_videos_positrack2/\n",
      "cp /adata/projects/autopi_mec/mn8599/mn8599-02022022-0107/mn8599-02022022_01.mp4 /adata/projects/autopi_mec/results/training_videos_positrack2/\n",
      "cp /adata/projects/autopi_mec/mn8599/mn8599-02022022-0107/mn8599-02022022_02.mp4 /adata/projects/autopi_mec/results/training_videos_positrack2/\n",
      "cp /adata/projects/autopi_mec/mn8599/mn8599-02022022-0107/mn8599-02022022_05.mp4 /adata/projects/autopi_mec/results/training_videos_positrack2/\n",
      "cp /adata/projects/autopi_mec/jp1084/jp1084-13042022-0108/jp1084-13042022_01.mp4 /adata/projects/autopi_mec/results/training_videos_positrack2/\n",
      "cp /adata/projects/autopi_mec/jp1084/jp1084-13042022-0108/jp1084-13042022_02.mp4 /adata/projects/autopi_mec/results/training_videos_positrack2/\n",
      "cp /adata/projects/autopi_mec/jp1084/jp1084-13042022-0108/jp1084-13042022_05.mp4 /adata/projects/autopi_mec/results/training_videos_positrack2/\n",
      "cp /adata/projects/autopi_mec/jp1685/jp1685-28042022-0108/jp1685-28042022_01.mp4 /adata/projects/autopi_mec/results/training_videos_positrack2/\n",
      "cp /adata/projects/autopi_mec/jp1685/jp1685-28042022-0108/jp1685-28042022_02.mp4 /adata/projects/autopi_mec/results/training_videos_positrack2/\n",
      "cp /adata/projects/autopi_mec/jp1685/jp1685-28042022-0108/jp1685-28042022_05.mp4 /adata/projects/autopi_mec/results/training_videos_positrack2/\n",
      "cp /adata/projects/autopi_mec/jp3120/jp3120-15052022-0107/jp3120-15052022_01.mp4 /adata/projects/autopi_mec/results/training_videos_positrack2/\n",
      "cp /adata/projects/autopi_mec/jp3120/jp3120-15052022-0107/jp3120-15052022_02.mp4 /adata/projects/autopi_mec/results/training_videos_positrack2/\n",
      "cp /adata/projects/autopi_mec/jp3120/jp3120-15052022-0107/jp3120-15052022_05.mp4 /adata/projects/autopi_mec/results/training_videos_positrack2/\n",
      "cp /adata/projects/autopi_mec/jp3129/jp3129-04062022-0108/jp3129-04062022_01.mp4 /adata/projects/autopi_mec/results/training_videos_positrack2/\n",
      "cp /adata/projects/autopi_mec/jp3129/jp3129-04062022-0108/jp3129-04062022_02.mp4 /adata/projects/autopi_mec/results/training_videos_positrack2/\n",
      "cp /adata/projects/autopi_mec/jp3129/jp3129-04062022-0108/jp3129-04062022_05.mp4 /adata/projects/autopi_mec/results/training_videos_positrack2/\n",
      "cp /adata/projects/autopi_mec/jp3129/jp3129-09062022-0108/jp3129-09062022_01.mp4 /adata/projects/autopi_mec/results/training_videos_positrack2/\n",
      "cp /adata/projects/autopi_mec/jp3129/jp3129-09062022-0108/jp3129-09062022_02.mp4 /adata/projects/autopi_mec/results/training_videos_positrack2/\n",
      "cp /adata/projects/autopi_mec/jp3129/jp3129-09062022-0108/jp3129-09062022_05.mp4 /adata/projects/autopi_mec/results/training_videos_positrack2/\n"
     ]
    }
   ],
   "source": [
    "for i in sessionIndices:\n",
    "    sSes = sSessions[i]\n",
    "    for t in trialIndices:\n",
    "        originFile = \"{}/{}{}\".format(sSes.path,sSes.trial_names[t],\".mp4\")\n",
    "        destinationFolder = \"/adata/projects/autopi_mec/results/training_videos_positrack2/\"\n",
    "        myCMD = \"cp {} {}\".format(originFile,destinationFolder)\n",
    "        print(myCMD)\n",
    "        os.system(myCMD)"
   ]
  },
  {
   "cell_type": "markdown",
   "id": "15b35381-3dc8-481c-b5d6-722afe152b41",
   "metadata": {},
   "source": [
    "This can be copied offsite with `scp -r a230-pc59:/adata/projects/autopi_mec/results/training_videos_positrack2 .`"
   ]
  }
 ],
 "metadata": {
  "kernelspec": {
   "display_name": "spikeA",
   "language": "python",
   "name": "python3"
  },
  "language_info": {
   "codemirror_mode": {
    "name": "ipython",
    "version": 3
   },
   "file_extension": ".py",
   "mimetype": "text/x-python",
   "name": "python",
   "nbconvert_exporter": "python",
   "pygments_lexer": "ipython3",
   "version": "3.11.5"
  }
 },
 "nbformat": 4,
 "nbformat_minor": 5
}
