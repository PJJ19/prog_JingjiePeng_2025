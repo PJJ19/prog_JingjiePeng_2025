{
 "cells": [
  {
   "cell_type": "markdown",
   "id": "f48426ae-8749-40ed-b6dc-d9aa0c768a1a",
   "metadata": {},
   "source": [
    "# Bridge coordinates in cm in a coordinate system with 0,0 being the arena center"
   ]
  },
  {
   "cell_type": "code",
   "execution_count": 6,
   "id": "fe110b80-5b81-45bd-a637-f30d92dadd2f",
   "metadata": {},
   "outputs": [
    {
     "name": "stdout",
     "output_type": "stream",
     "text": [
      "The autoreload extension is already loaded. To reload it, use:\n",
      "  %reload_ext autoreload\n"
     ]
    },
    {
     "name": "stderr",
     "output_type": "stream",
     "text": [
      "/home/kilo/repo/analysis_jingjie/jingjie/autopi_mec_jingjie/autopi_mec/mouse_and_objects_position_tracking/setup_project.py:769: NumbaDeprecationWarning: The 'nopython' keyword argument was not supplied to the 'numba.jit' decorator. The implicit default value for this argument is currently False, but it will be changed to True in Numba 0.59.0. See https://numba.readthedocs.io/en/stable/reference/deprecation.html#deprecation-of-object-mode-fall-back-behaviour-when-using-jit for details.\n",
      "  @jit()\n",
      "/home/kilo/repo/analysis_jingjie/jingjie/autopi_mec_jingjie/autopi_mec/mouse_and_objects_position_tracking/setup_project.py:797: NumbaDeprecationWarning: The 'nopython' keyword argument was not supplied to the 'numba.jit' decorator. The implicit default value for this argument is currently False, but it will be changed to True in Numba 0.59.0. See https://numba.readthedocs.io/en/stable/reference/deprecation.html#deprecation-of-object-mode-fall-back-behaviour-when-using-jit for details.\n",
      "  @jit()\n",
      "/home/kilo/repo/analysis_jingjie/jingjie/autopi_mec_jingjie/autopi_mec/mouse_and_objects_position_tracking/setup_project.py:821: NumbaDeprecationWarning: The 'nopython' keyword argument was not supplied to the 'numba.jit' decorator. The implicit default value for this argument is currently False, but it will be changed to True in Numba 0.59.0. See https://numba.readthedocs.io/en/stable/reference/deprecation.html#deprecation-of-object-mode-fall-back-behaviour-when-using-jit for details.\n",
      "  @jit()\n"
     ]
    }
   ],
   "source": [
    "%load_ext autoreload\n",
    "%autoreload 2\n",
    "%run setup_project.py"
   ]
  },
  {
   "cell_type": "code",
   "execution_count": 9,
   "id": "aa896f33",
   "metadata": {},
   "outputs": [
    {
     "name": "stdout",
     "output_type": "stream",
     "text": [
      "creating myProject, an autopipy.project object\n",
      "Project name: autopi_mec\n",
      "dataPath: /adata/projects/autopi_mec\n",
      "dlcModelPath: /adata/models\n",
      "Reading /adata/projects/autopi_mec/sessionList_invalid\n",
      "We have 1 testing sessions in the list\n",
      "spikeA.Kilosort_session objects are in sSessions\n"
     ]
    }
   ],
   "source": [
    "projectName, dataPath, dlcModelPath, myProject, sSessions= setup_project_session_lists()"
   ]
  },
  {
   "cell_type": "code",
   "execution_count": 10,
   "id": "47309269-e3d1-4f3b-9387-5d25d995d506",
   "metadata": {},
   "outputs": [
    {
     "name": "stdout",
     "output_type": "stream",
     "text": [
      "Loading Animal_pose and Spike_train, sSes.ap and sSes.cg\n",
      "Will load .pose.npy\n"
     ]
    },
    {
     "name": "stderr",
     "output_type": "stream",
     "text": [
      "  0%|          | 0/1 [00:00<?, ?it/s]"
     ]
    },
    {
     "name": "stderr",
     "output_type": "stream",
     "text": [
      "100%|██████████| 1/1 [00:01<00:00,  1.02s/it]"
     ]
    },
    {
     "name": "stdout",
     "output_type": "stream",
     "text": [
      "Loading ses.trial_table_simple as ses.trials\n",
      "Create condition intervals in ses.intervalDict\n"
     ]
    },
    {
     "name": "stderr",
     "output_type": "stream",
     "text": [
      "\n"
     ]
    }
   ],
   "source": [
    "prepareSessionsForSpatialAnalysisProject(sSessions,myProject.sessionList)"
   ]
  },
  {
   "cell_type": "code",
   "execution_count": 11,
   "id": "b714250c-7e86-4955-9d9d-4f4922f75360",
   "metadata": {},
   "outputs": [
    {
     "data": {
      "text/plain": [
       "{'log': '/adata/projects/autopi_mec/mn8578/mn8578-30112021-0107/mn8578-30112021-0107.log',\n",
       " 'protocol': '/adata/projects/autopi_mec/mn8578/mn8578-30112021-0107/mn8578-30112021-0107.protocol',\n",
       " 'arena_top.avi': '/adata/projects/autopi_mec/mn8578/mn8578-30112021-0107/mn8578-30112021-0107.arena_top.avi',\n",
       " 'arena_top.log': '/adata/projects/autopi_mec/mn8578/mn8578-30112021-0107/mn8578-30112021-0107.arena_top.log',\n",
       " 'arena_top.cropped.avi': '/adata/projects/autopi_mec/mn8578/mn8578-30112021-0107/mn8578-30112021-0107.arena_top.cropped.avi',\n",
       " 'mouseLeverPosition.csv': '/adata/projects/autopi_mec/mn8578/mn8578-30112021-0107/mn8578-30112021-0107.mouseLeverPosition.csv',\n",
       " 'arenaCoordinates': '/adata/projects/autopi_mec/mn8578/mn8578-30112021-0107/arenaCoordinates',\n",
       " 'bridgeCoordinates': '/adata/projects/autopi_mec/mn8578/mn8578-30112021-0107/bridgeCoordinates'}"
      ]
     },
     "execution_count": 11,
     "metadata": {},
     "output_type": "execute_result"
    }
   ],
   "source": [
    "ses = myProject.sessionList[0]\n",
    "ses.fileNames"
   ]
  },
  {
   "cell_type": "code",
   "execution_count": 12,
   "id": "8e0138da-1240-442e-90c1-f51229192fa0",
   "metadata": {},
   "outputs": [],
   "source": [
    "def createBridgeCoordinatesCM(ses):\n",
    "    \"\"\"\n",
    "    Calculate the coordinates of the bridge in cm with coordinate 0,0 set to the center of the arena\n",
    "    \"\"\"\n",
    "    \n",
    "    for fn in [ses.fileNames[\"arenaCoordinates\"], ses.fileNames[\"bridgeCoordinates\"]]:\n",
    "        if not os.path.exists(fn):\n",
    "            raise valueError(\"{} missing\".format(ses.fileNames[\"arenaCoordinates\"]))\n",
    "        \n",
    "    \n",
    "    arenaCoordinates = np.loadtxt(ses.fileNames[\"arenaCoordinates\"])\n",
    "    bridgeCoordinates = np.genfromtxt(ses.fileNames[\"bridgeCoordinates\"],delimiter=\",\")\n",
    "    bridgeCoordinates,arenaCoordinates\n",
    "    arenaRadiusCm = 40\n",
    "    # transform pixels to cm\n",
    "    pxPerCm = arenaCoordinates[2]/arenaRadiusCm\n",
    "    bridgeCoordinates = bridgeCoordinates/pxPerCm\n",
    "    arenaCoordinates = arenaCoordinates/pxPerCm\n",
    "    # translate bridge coordinate so that 0,0 is arena center\n",
    "    bridgeCoordinates = bridgeCoordinates-arenaCoordinates[0:2]\n",
    "    # save to a text file\n",
    "    fn =ses.fileNames[\"bridgeCoordinates\"]+\"CM\"\n",
    "    print(\"Saving\",fn)\n",
    "    np.savetxt(fn,bridgeCoordinates, fmt=\"%.3f\", delimiter=\" \")"
   ]
  },
  {
   "cell_type": "code",
   "execution_count": 13,
   "id": "81db296b-7a2f-4a76-9aff-b4662f52a238",
   "metadata": {},
   "outputs": [
    {
     "name": "stdout",
     "output_type": "stream",
     "text": [
      "Saving /adata/projects/autopi_mec/mn8578/mn8578-30112021-0107/bridgeCoordinatesCM\n"
     ]
    }
   ],
   "source": [
    "createBridgeCoordinatesCM(ses)"
   ]
  },
  {
   "cell_type": "code",
   "execution_count": 14,
   "id": "bce696e3-9877-4382-9d0f-20d1dc6e2549",
   "metadata": {},
   "outputs": [
    {
     "name": "stdout",
     "output_type": "stream",
     "text": [
      "Saving /adata/projects/autopi_mec/mn8578/mn8578-30112021-0107/bridgeCoordinatesCM\n"
     ]
    }
   ],
   "source": [
    "for ses in myProject.sessionList:\n",
    "    createBridgeCoordinatesCM(ses)"
   ]
  },
  {
   "cell_type": "code",
   "execution_count": null,
   "id": "b66468ee-7f8c-433a-b96b-b54c8cb8eb41",
   "metadata": {},
   "outputs": [],
   "source": []
  }
 ],
 "metadata": {
  "kernelspec": {
   "display_name": "spikeA",
   "language": "python",
   "name": "python3"
  },
  "language_info": {
   "codemirror_mode": {
    "name": "ipython",
    "version": 3
   },
   "file_extension": ".py",
   "mimetype": "text/x-python",
   "name": "python",
   "nbconvert_exporter": "python",
   "pygments_lexer": "ipython3",
   "version": "3.11.5"
  }
 },
 "nbformat": 4,
 "nbformat_minor": 5
}
