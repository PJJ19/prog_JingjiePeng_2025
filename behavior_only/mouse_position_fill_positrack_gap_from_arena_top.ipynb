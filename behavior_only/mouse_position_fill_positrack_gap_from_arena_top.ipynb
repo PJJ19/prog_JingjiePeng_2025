{
 "cells": [
  {
   "cell_type": "markdown",
   "id": "8b616406-02c8-4fd1-8b3b-c0d363ffa184",
   "metadata": {},
   "source": [
    "# Filling positrack gaps with arena_top video\n",
    "\n",
    "The actuator sometimes comes in the way of the positrack2 cameras during the AutoPI task. To try to eliminate this problem, we can look at the position data extracted from a different video taken from a different camera."
   ]
  },
  {
   "cell_type": "code",
   "execution_count": 1,
   "id": "66248a8b-8513-4cbc-b143-e028158893e4",
   "metadata": {},
   "outputs": [
    {
     "name": "stderr",
     "output_type": "stream",
     "text": [
      "/home/kilo/repo/analysis_jingjie/jingjie/autopi_mec_jingjie/autopi_mec/mouse_and_objects_position_tracking/setup_project.py:769: NumbaDeprecationWarning: The 'nopython' keyword argument was not supplied to the 'numba.jit' decorator. The implicit default value for this argument is currently False, but it will be changed to True in Numba 0.59.0. See https://numba.readthedocs.io/en/stable/reference/deprecation.html#deprecation-of-object-mode-fall-back-behaviour-when-using-jit for details.\n",
      "  @jit()\n",
      "/home/kilo/repo/analysis_jingjie/jingjie/autopi_mec_jingjie/autopi_mec/mouse_and_objects_position_tracking/setup_project.py:797: NumbaDeprecationWarning: The 'nopython' keyword argument was not supplied to the 'numba.jit' decorator. The implicit default value for this argument is currently False, but it will be changed to True in Numba 0.59.0. See https://numba.readthedocs.io/en/stable/reference/deprecation.html#deprecation-of-object-mode-fall-back-behaviour-when-using-jit for details.\n",
      "  @jit()\n",
      "/home/kilo/repo/analysis_jingjie/jingjie/autopi_mec_jingjie/autopi_mec/mouse_and_objects_position_tracking/setup_project.py:821: NumbaDeprecationWarning: The 'nopython' keyword argument was not supplied to the 'numba.jit' decorator. The implicit default value for this argument is currently False, but it will be changed to True in Numba 0.59.0. See https://numba.readthedocs.io/en/stable/reference/deprecation.html#deprecation-of-object-mode-fall-back-behaviour-when-using-jit for details.\n",
      "  @jit()\n"
     ]
    }
   ],
   "source": [
    "%load_ext autoreload\n",
    "%autoreload 2\n",
    "%run setup_project.py\n",
    "import os.path\n",
    "from datetime import datetime, timezone\n",
    "import shutil\n",
    "import cv2"
   ]
  },
  {
   "cell_type": "code",
   "execution_count": 2,
   "id": "28316b0e",
   "metadata": {},
   "outputs": [
    {
     "name": "stdout",
     "output_type": "stream",
     "text": [
      "creating myProject, an autopipy.project object\n",
      "Project name: autopi_mec\n",
      "dataPath: /adata/projects/autopi_mec\n",
      "dlcModelPath: /adata/models\n",
      "Reading /adata/projects/autopi_mec/sessionList_invalid\n",
      "We have 1 testing sessions in the list\n",
      "spikeA.Kilosort_session objects are in sSessions\n"
     ]
    }
   ],
   "source": [
    "projectName, dataPath, dlcModelPath, myProject, sSessions= setup_project_session_lists()"
   ]
  },
  {
   "cell_type": "code",
   "execution_count": 3,
   "id": "a21ccc78-1de3-4c46-bc20-ab079c2567a2",
   "metadata": {},
   "outputs": [],
   "source": [
    "def prepareSessionsForSpatialAnalysisProject(sSessions):\n",
    "    #print(\"Creating Animal_pose and Spike_train, sSes.ap and sSes.cg\")\n",
    "    for ses in tqdm(sSessions):\n",
    "        ses.load_parameters_from_files() \n",
    "        ap = Animal_pose(ses)\n",
    "        ses.ap = ap\n",
    "        \n",
    "def load_arena_top_df(ses):\n",
    "    fn = ses.fileBase+\".arena_top_cropped_mouseLEDs_offline_tracking.csv\"\n",
    "    #print(\"Loading\",fn)\n",
    "    return pd.read_csv(fn)"
   ]
  },
  {
   "cell_type": "code",
   "execution_count": 4,
   "id": "737286e3-27d3-4740-9252-af5f3ee0c295",
   "metadata": {},
   "outputs": [
    {
     "name": "stderr",
     "output_type": "stream",
     "text": [
      "100%|██████████| 1/1 [00:00<00:00, 1069.16it/s]\n"
     ]
    }
   ],
   "source": [
    "prepareSessionsForSpatialAnalysisProject(sSessions)"
   ]
  },
  {
   "cell_type": "code",
   "execution_count": 5,
   "id": "106a21de-0f73-49c0-bab2-23cc1dfd8faf",
   "metadata": {},
   "outputs": [],
   "source": [
    "from scipy.interpolate import interp1d\n",
    "\n",
    "def mouse_position_fill_gaps(ses):\n",
    "    \"\"\"\n",
    "    Use data from dlc tracking of arena_top.cropped video to get the position of the mouse\n",
    "    when the mouse was not visible in the positrack2 videos.\n",
    "    \n",
    "    only do the x and y at the moment, hd missing\n",
    "    \"\"\"\n",
    "    ses.ap.load_pose_from_file()\n",
    "    atdf = load_arena_top_df(ses)\n",
    "\n",
    "    fx = interp1d(atdf.time, atdf.x, bounds_error=False) # x we will start at 0 until the end of the file\n",
    "    fy = interp1d(atdf.time, atdf.y, bounds_error=False) # y\n",
    "    \n",
    "    px = fx(ses.ap.pose[:,-1])\n",
    "    py = fy(ses.ap.pose[:,-1])\n",
    "    \n",
    "    \n",
    "    \n",
    "    \n",
    "    replaceIndicesX = np.logical_and(np.isnan(ses.ap.pose[:,1]), ~np.isnan(px))\n",
    "    replaceIndicesY = np.logical_and(np.isnan(ses.ap.pose[:,2]), ~np.isnan(py))\n",
    "    replaceIndices = np.logical_and(replaceIndicesX,replaceIndicesY)\n",
    "    \n",
    "    ses.ap.pose[replaceIndices,1] = px[replaceIndices]\n",
    "    ses.ap.pose[replaceIndices,2] = py[replaceIndices]\n",
    "    \n",
    "    # save the new spikeA.Animal_pose.pose array\n",
    "    \n",
    "    ses.ap.save_pose_to_file(verbose=False)"
   ]
  },
  {
   "cell_type": "code",
   "execution_count": 6,
   "id": "bf64fb91-c551-4be0-bdca-cbcfc3974ea4",
   "metadata": {},
   "outputs": [],
   "source": [
    "ses = sSessions[0]"
   ]
  },
  {
   "cell_type": "code",
   "execution_count": 7,
   "id": "61f12614-5a72-4b17-9638-a7386f103f7e",
   "metadata": {},
   "outputs": [
    {
     "name": "stdout",
     "output_type": "stream",
     "text": [
      "CPU times: user 208 ms, sys: 92.2 ms, total: 300 ms\n",
      "Wall time: 1.04 s\n"
     ]
    }
   ],
   "source": [
    "%%time\n",
    "mouse_position_fill_gaps(ses)"
   ]
  },
  {
   "cell_type": "code",
   "execution_count": 8,
   "id": "db733867-65e9-4091-881d-fc0c7dcbc3de",
   "metadata": {},
   "outputs": [
    {
     "name": "stderr",
     "output_type": "stream",
     "text": [
      "100%|██████████| 1/1 [00:01<00:00,  1.04s/it]\n"
     ]
    }
   ],
   "source": [
    "for ses in tqdm(sSessions):\n",
    "    mouse_position_fill_gaps(ses)"
   ]
  },
  {
   "cell_type": "code",
   "execution_count": null,
   "id": "f50f0f1f-aec0-4ac7-84c3-713461050a40",
   "metadata": {},
   "outputs": [],
   "source": []
  },
  {
   "cell_type": "code",
   "execution_count": null,
   "id": "17e620f0",
   "metadata": {},
   "outputs": [],
   "source": []
  }
 ],
 "metadata": {
  "kernelspec": {
   "display_name": "spikeA",
   "language": "python",
   "name": "python3"
  },
  "language_info": {
   "codemirror_mode": {
    "name": "ipython",
    "version": 3
   },
   "file_extension": ".py",
   "mimetype": "text/x-python",
   "name": "python",
   "nbconvert_exporter": "python",
   "pygments_lexer": "ipython3",
   "version": "3.11.5"
  }
 },
 "nbformat": 4,
 "nbformat_minor": 5
}
