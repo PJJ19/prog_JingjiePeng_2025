{
 "cells": [
  {
   "cell_type": "markdown",
   "id": "a0f3ed7f-d9a9-4698-a387-edb3a1a7381f",
   "metadata": {},
   "source": [
    "# Cell count\n",
    "\n",
    "Get an overview of the number of cells recorded per mouse, per session, etc. \n",
    "\n",
    "There is no criterion for the inclusion of neurons. This is just to give us an idea of how many clusters were kept after manual clustering."
   ]
  },
  {
   "cell_type": "code",
   "execution_count": 1,
   "id": "52d28a99-c0c3-4d88-b118-f3dc8867f0d4",
   "metadata": {},
   "outputs": [],
   "source": [
    "%load_ext autoreload\n",
    "%autoreload 2\n",
    "%run ../setup_project.py\n",
    "import os.path\n",
    "import shutil"
   ]
  },
  {
   "cell_type": "code",
   "execution_count": 2,
   "id": "8194cca1-ab2a-4559-8a12-f82a01b5d62b",
   "metadata": {},
   "outputs": [
    {
     "name": "stdout",
     "output_type": "stream",
     "text": [
      "creating myProject, an autopipy.project object\n",
      "Project name: autopi_mec\n",
      "dataPath: /adata/projects/autopi_mec\n",
      "dlcModelPath: /adata/models\n",
      "Reading /adata/projects/autopi_mec/sessionList\n",
      "We have 180 testing sessions in the list\n",
      "spikeA.Kilosort_session objects are in sSessions\n"
     ]
    }
   ],
   "source": [
    "projectName, dataPath, dlcModelPath, myProject, sSessions = setup_project_session_lists(projectName=\"autopi_mec\",dataPath=\"/adata/projects/autopi_mec\",dlcModelPath=\"/adata/models\")"
   ]
  },
  {
   "cell_type": "markdown",
   "id": "b9d30c2d-0a69-4d67-ad6c-6d2209197255",
   "metadata": {},
   "source": [
    "Get the number of clusters per session."
   ]
  },
  {
   "cell_type": "code",
   "execution_count": 4,
   "id": "b747ac8c-bcc7-4d93-89a7-0ae05491e863",
   "metadata": {},
   "outputs": [
    {
     "name": "stderr",
     "output_type": "stream",
     "text": [
      "  0%|          | 0/180 [00:00<?, ?it/s]"
     ]
    },
    {
     "name": "stderr",
     "output_type": "stream",
     "text": [
      "100%|██████████| 180/180 [02:32<00:00,  1.18it/s]\n"
     ]
    }
   ],
   "source": [
    "from spikeA.Spike_train_loader import Spike_train_loader\n",
    "cluNumber = []\n",
    "for ses in tqdm(sSessions):\n",
    "    stl = Spike_train_loader()\n",
    "    stl.load_session_spike_trains(ses)\n",
    "    cluNumber.append(len(stl.clu_ids))"
   ]
  },
  {
   "cell_type": "markdown",
   "id": "12559290-c47d-4f8a-9e55-a90df7c79ee7",
   "metadata": {},
   "source": [
    "Create a DataFrame"
   ]
  },
  {
   "cell_type": "code",
   "execution_count": 5,
   "id": "31773411-9063-4522-b7e3-cdd59d3552c6",
   "metadata": {},
   "outputs": [],
   "source": [
    "df = pd.DataFrame({\"session\": [ses.name for ses in sSessions],\n",
    "              \"mouse\": [ses.subject for ses in sSessions],\n",
    "              \"nClusters\":cluNumber})"
   ]
  },
  {
   "cell_type": "code",
   "execution_count": 6,
   "id": "20bc0889-1fea-472e-b5db-3e48b14439ce",
   "metadata": {},
   "outputs": [
    {
     "name": "stdout",
     "output_type": "stream",
     "text": [
      "Number of neurons in the dataset: 10850\n"
     ]
    }
   ],
   "source": [
    "print(\"Number of neurons in the dataset: {}\".format(np.sum(df.nClusters)))\n"
   ]
  },
  {
   "cell_type": "code",
   "execution_count": 7,
   "id": "8ecc9653-aae7-41e1-9d38-1e30d2d65129",
   "metadata": {},
   "outputs": [
    {
     "data": {
      "text/plain": [
       "array(['jp1084', 'jp1684', 'jp1685', 'jp1686', 'jp1687', 'jp3120',\n",
       "       'jp3129', 'jp3130', 'jp3269', 'jp451', 'jp452', 'jp486', 'jp487',\n",
       "       'jp497', 'jp499', 'mn8578', 'mn8599'], dtype=object)"
      ]
     },
     "execution_count": 7,
     "metadata": {},
     "output_type": "execute_result"
    }
   ],
   "source": [
    "np.sort(df.mouse.unique())"
   ]
  },
  {
   "cell_type": "code",
   "execution_count": 10,
   "id": "6fd6ba25-a2ee-49c3-855c-c2c04d3fb35f",
   "metadata": {},
   "outputs": [],
   "source": [
    "def plotNeuronsPerSession(ax,df):\n",
    "    \"\"\"\n",
    "    Boxplot with the number of recorded neurons per session for each mouse\n",
    "    \"\"\"\n",
    "    sns.boxplot(data=df, x=\"mouse\", y=\"nClusters\", order = np.sort(df.mouse.unique()))\n",
    "\n",
    "    ax.tick_params(axis='x', rotation=90)\n",
    "    #ax.set_ylim(0,150)\n",
    "    ax.set_ylabel(\"Neurons per\\n session\")\n",
    "    #ax.yaxis.set_label_coords(-0.25, 0.5)\n",
    "    ax.set_xlabel(\"Mouse\")\n",
    "\n",
    "    ax.spines['top'].set_visible(False)\n",
    "    ax.spines['right'].set_visible(False)  \n",
    "    # for tick in ax.xaxis.get_major_ticks():\n",
    "    #     tick.label.set_fontsize(8) \n",
    "\n",
    "def plotNeuronsPerMouse(ax,df):\n",
    "    dfSum = df.groupby('mouse').agg('sum')\n",
    "    ax.bar(dfSum.index, dfSum.nClusters,color=sns.color_palette(), edgecolor = \"black\")\n",
    "    ax.set_ylabel(\"Neurons per\\n mouse\")\n",
    "    #ax.yaxis.set_label_coords(-0.25, 0.5)\n",
    "    ax.set_xlabel(\"Mouse\")\n",
    "    #ax.set_ylim(0,750)\n",
    "\n",
    "    ax.tick_params(axis='x', rotation=90)\n",
    "    ax.spines['top'].set_visible(False)\n",
    "    ax.spines['right'].set_visible(False)  \n",
    "    # for tick in ax.xaxis.get_major_ticks():\n",
    "    #     tick.label.set_fontsize(8) \n",
    "\n",
    "def plotSessionsPerMouse(ax,df): \n",
    "    dfC = df.groupby('mouse').size().reset_index(name='counts')\n",
    "    dfC\n",
    "    ax.bar(dfC.mouse, dfC.counts,color=sns.color_palette(), edgecolor = \"black\")\n",
    "    ax.set_ylabel(\"Sessions per\\n mouse\")\n",
    "    #ax.yaxis.set_label_coords(-0.25, 0.5)\n",
    "    ax.set_xlabel(\"Mouse\")\n",
    "    ax.set_ylim(0,20)\n",
    "\n",
    "    ax.tick_params(axis='x', rotation=90)\n",
    "    ax.spines['top'].set_visible(False)\n",
    "    ax.spines['right'].set_visible(False)  \n",
    "    # for tick in ax.xaxis.get_major_ticks():\n",
    "    #     tick.label.set_fontsize(8) "
   ]
  },
  {
   "cell_type": "code",
   "execution_count": 13,
   "id": "745ca34c-6009-44b1-8fb2-d67865afeca0",
   "metadata": {},
   "outputs": [
    {
     "data": {
      "image/png": "[encoded data removed]",
      "text/plain": [
       "<Figure size 900x300 with 4 Axes>"
      ]
     },
     "metadata": {},
     "output_type": "display_data"
    }
   ],
   "source": [
    "rowSize,colSize= 3, 3 #figurePanelDefaultSize()\n",
    "nPlots=3\n",
    "fig = plt.figure(figsize=(nPlots*colSize, 1*rowSize), constrained_layout=True) # create a figure\n",
    "spec = fig.add_gridspec(ncols=nPlots, nrows=2,height_ratios=[0.15,0.9]) # create a GridSpec object to a figure\n",
    "specLetters = fig.add_gridspec(ncols=1, nrows=1) # create a GridSpec object to a figure\n",
    "\n",
    "ax = fig.add_subplot(spec[1,0]) # add an axes to the figure\n",
    "plotNeuronsPerSession(ax,df)\n",
    "\n",
    "ax = fig.add_subplot(spec[1,1]) # add an axes to the figure\n",
    "plotNeuronsPerMouse(ax,df)\n",
    "\n",
    "ax = fig.add_subplot(spec[1,2]) # add an axes to the figure\n",
    "plotSessionsPerMouse(ax,df)\n",
    "\n",
    "ax = fig.add_subplot(specLetters[0]) # add an axes to the figure\n",
    "ax.text(0.0,1.0, 'a', style='normal',fontsize=12, weight=\"bold\")\n",
    "ax.text(0.34,1.0, 'b', style='normal',fontsize=12, weight=\"bold\")\n",
    "ax.text(0.685,1.0, 'c', style='normal',fontsize=12, weight=\"bold\")\n",
    "ax.axis(\"off\")\n",
    "\n",
    "\n",
    "plt.show()"
   ]
  },
  {
   "cell_type": "code",
   "execution_count": null,
   "id": "6c19d5f0-f4f1-411a-bf97-7214b21676f4",
   "metadata": {},
   "outputs": [],
   "source": []
  }
 ],
 "metadata": {
  "kernelspec": {
   "display_name": "spikeA",
   "language": "python",
   "name": "python3"
  },
  "language_info": {
   "codemirror_mode": {
    "name": "ipython",
    "version": 3
   },
   "file_extension": ".py",
   "mimetype": "text/x-python",
   "name": "python",
   "nbconvert_exporter": "python",
   "pygments_lexer": "ipython3",
   "version": "3.11.5"
  }
 },
 "nbformat": 4,
 "nbformat_minor": 5
}
